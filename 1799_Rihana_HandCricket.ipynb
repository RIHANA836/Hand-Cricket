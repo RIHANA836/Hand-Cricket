{
 "cells": [
  {
   "cell_type": "markdown",
   "metadata": {},
   "source": [
    "# Milestone Project 2 - Walkthrough Steps Workbook\n",
    "Below is a set of steps for you to follow to try to create the Blackjack Milestone Project game!"
   ]
  },
  {
   "cell_type": "markdown",
   "metadata": {},
   "source": [
    "## Game Play\n",
    "To code Hand Cricket\n"
   ]
  },
  {
   "cell_type": "code",
   "execution_count": 1,
   "metadata": {},
   "outputs": [
    {
     "name": "stdout",
     "output_type": "stream",
     "text": [
      "Welcome to Hand Cricket Game!\n"
     ]
    },
    {
     "name": "stdin",
     "output_type": "stream",
     "text": [
      "Are you ready to play? (yes/no):  yes\n",
      "Do you want to play 'odd' or 'even'?  odd\n",
      "Player 1, choose a number (0-9):  2\n",
      "Player 2, choose a number (0-9):  3\n"
     ]
    }
   ],
   "source": [
    "print(\"Welcome to Hand Cricket Game!\")\n",
    "ready = input(\"Are you ready to play? (yes/no): \")\n",
    "\n",
    "choice = input(\"Do you want to play 'odd' or 'even'? \")\n",
    "player1_number = int(input(\"Player 1, choose a number (0-9): \")) \n",
    "player2_number = int(input(\"Player 2, choose a number (0-9): \"))"
   ]
  },
  {
   "cell_type": "code",
   "execution_count": 3,
   "metadata": {},
   "outputs": [],
   "source": [
    "\n",
    "def play_game(player_name):\n",
    "    total_runs = 0  \n",
    "\n",
    "    while True:\n",
    "        num1 = int(input(f\"{player_name}, choose a number: \"))\n",
    "        \n",
    "        num2 = int(input(\"Other player, choose a number: \"))\n",
    "\n",
    "        if num1 == num2:  \n",
    "            print(f\"{player_name} is out!\")\n",
    "            break \n",
    "\n",
    "        total_runs += num1  \n",
    "\n",
    "    return total_runs \n",
    "\n"
   ]
  },
  {
   "cell_type": "code",
   "execution_count": 5,
   "metadata": {},
   "outputs": [
    {
     "name": "stdout",
     "output_type": "stream",
     "text": [
      "Player 2 wins the toss!\n"
     ]
    },
    {
     "name": "stdin",
     "output_type": "stream",
     "text": [
      "Player 2, do you want to bat or bowl? (bat/bowl):  bowl\n"
     ]
    },
    {
     "name": "stdout",
     "output_type": "stream",
     "text": [
      "Player 1 is batting.\n"
     ]
    },
    {
     "name": "stdin",
     "output_type": "stream",
     "text": [
      "Player 1, choose a number:  2\n",
      "Other player, choose a number:  2\n"
     ]
    },
    {
     "name": "stdout",
     "output_type": "stream",
     "text": [
      "Player 1 is out!\n",
      "Player 2 is  now  batting first.\n"
     ]
    },
    {
     "name": "stdin",
     "output_type": "stream",
     "text": [
      "Player 2, choose a number:  2\n",
      "Other player, choose a number:  3\n",
      "Player 2, choose a number:  2\n",
      "Other player, choose a number:  2\n"
     ]
    },
    {
     "name": "stdout",
     "output_type": "stream",
     "text": [
      "Player 2 is out!\n"
     ]
    }
   ],
   "source": [
    "if (player1_number % 2 == 0 and choice == \"even\") or (player1_number % 2 != 0 and choice == \"odd\"):\n",
    "    print(\"Player 1 wins the toss!\")\n",
    "    \n",
    "    action = input(\"Do you want to bat or bowl? (bat/bowl): \")\n",
    "    if action == \"bat\":\n",
    "        player1_action = \"bat\"\n",
    "        player2_action = \"bowl\"\n",
    "        print(\"Player 1 is batting.\")\n",
    "        player1_runs = play_game(\"Player 1\") \n",
    "        print(\"Player 2 is  now  batting first.\")\n",
    "        player2_runs = play_game(\"Player 2\") \n",
    "    else:\n",
    "        player1_action = \"bowl\"\n",
    "        player2_action = \"bat\"\n",
    "        print(\"Player 2 is batting first.\")\n",
    "        player2_runs = play_game(\"Player 2\") \n",
    "        print(\"Player 1 is now batting.\")\n",
    "        player1_runs = play_game(\"Player 1\")\n",
    "else:\n",
    "    print(\"Player 2 wins the toss!\")\n",
    "    action = input(\"Player 2, do you want to bat or bowl? (bat/bowl): \")\n",
    "    if action == \"bowl\":\n",
    "        player1_action = \"bat\"\n",
    "        player2_action = \"bowl\"\n",
    "        print(\"Player 1 is batting.\")\n",
    "        player1_runs = play_game(\"Player 1\") \n",
    "        print(\"Player 2 is  now  batting first.\")\n",
    "        player2_runs = play_game(\"Player 2\") \n",
    "    else:\n",
    "        \n",
    "        player1_action = \"bowl\"\n",
    "        player2_action = \"bat\"\n",
    "        print(\"Player 2 is batting first.\")\n",
    "        player2_runs = play_game(\"Player 2\") \n",
    "        print(\"Player 1 is now batting.\")\n",
    "        player1_runs = play_game(\"Player 1\")\n",
    "        \n",
    "\n",
    "\n",
    "    "
   ]
  },
  {
   "cell_type": "code",
   "execution_count": 7,
   "metadata": {},
   "outputs": [
    {
     "name": "stdout",
     "output_type": "stream",
     "text": [
      "Player 2 wins!\n",
      "Game over!\n"
     ]
    }
   ],
   "source": [
    "\n",
    "if player1_runs > player2_runs:\n",
    "    print(\"Player 1 wins!\")\n",
    "elif player2_runs > player1_runs:\n",
    "    print(\"Player 2 wins!\")\n",
    "else:\n",
    "    print(\"It's a tie!\")\n",
    "\n",
    "print(\"Game over!\")"
   ]
  },
  {
   "cell_type": "markdown",
   "metadata": {},
   "source": [
    "And that's it! Remember, these steps may differ significantly from your own solution. That's OK! Keep working on different sections of your program until you get the desired results. It takes a lot of time and patience! As always, feel free to post questions and comments to the QA Forums.\n",
    "# Good job!"
   ]
  }
 ],
 "metadata": {
  "kernelspec": {
   "display_name": "Python 3 (ipykernel)",
   "language": "python",
   "name": "python3"
  },
  "language_info": {
   "codemirror_mode": {
    "name": "ipython",
    "version": 3
   },
   "file_extension": ".py",
   "mimetype": "text/x-python",
   "name": "python",
   "nbconvert_exporter": "python",
   "pygments_lexer": "ipython3",
   "version": "3.12.4"
  }
 },
 "nbformat": 4,
 "nbformat_minor": 4
}
